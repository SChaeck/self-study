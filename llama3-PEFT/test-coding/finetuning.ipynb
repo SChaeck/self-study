{
 "cells": [
  {
   "cell_type": "code",
   "execution_count": 14,
   "metadata": {},
   "outputs": [
    {
     "name": "stderr",
     "output_type": "stream",
     "text": [
      "`low_cpu_mem_usage` was None, now set to True since model is quantized.\n"
     ]
    },
    {
     "data": {
      "application/vnd.jupyter.widget-view+json": {
       "model_id": "63771dcbc47a4efeaec943d14106cb2c",
       "version_major": 2,
       "version_minor": 0
      },
      "text/plain": [
       "Loading checkpoint shards:   0%|          | 0/4 [00:00<?, ?it/s]"
      ]
     },
     "metadata": {},
     "output_type": "display_data"
    },
    {
     "data": {
      "application/vnd.jupyter.widget-view+json": {
       "model_id": "7dae871b0c95403cad2a0053eaa38473",
       "version_major": 2,
       "version_minor": 0
      },
      "text/plain": [
       "generation_config.json:   0%|          | 0.00/143 [00:00<?, ?B/s]"
      ]
     },
     "metadata": {},
     "output_type": "display_data"
    },
    {
     "data": {
      "application/vnd.jupyter.widget-view+json": {
       "model_id": "70196d14f6ea4a3fbd310232a5a6952e",
       "version_major": 2,
       "version_minor": 0
      },
      "text/plain": [
       "tokenizer_config.json:   0%|          | 0.00/51.0k [00:00<?, ?B/s]"
      ]
     },
     "metadata": {},
     "output_type": "display_data"
    },
    {
     "data": {
      "application/vnd.jupyter.widget-view+json": {
       "model_id": "38dfd98b08cf4632a76a7062c1e2191f",
       "version_major": 2,
       "version_minor": 0
      },
      "text/plain": [
       "tokenizer.json:   0%|          | 0.00/9.09M [00:00<?, ?B/s]"
      ]
     },
     "metadata": {},
     "output_type": "display_data"
    },
    {
     "data": {
      "application/vnd.jupyter.widget-view+json": {
       "model_id": "33ea43d303a446bda422248e1dd54371",
       "version_major": 2,
       "version_minor": 0
      },
      "text/plain": [
       "special_tokens_map.json:   0%|          | 0.00/301 [00:00<?, ?B/s]"
      ]
     },
     "metadata": {},
     "output_type": "display_data"
    },
    {
     "name": "stderr",
     "output_type": "stream",
     "text": [
      "Special tokens have been added in the vocabulary, make sure the associated word embeddings are fine-tuned or trained.\n"
     ]
    }
   ],
   "source": [
    "from transformers import AutoModelForCausalLM, AutoTokenizer\n",
    "import torch\n",
    "\n",
    "max_seq_length = 4096  # 최대 시퀀스 길이를 설정합니다.\n",
    "dtype = torch.float16 \n",
    "load_in_4bit = True  # 4bit 양자화 로드 여부를 설정합니다.\n",
    "\n",
    "model_name = \"beomi/Llama-3-Open-Ko-8B-Instruct-preview\"  # 모델 이름을 설정합니다.\n",
    "\n",
    "from transformers import BitsAndBytesConfig\n",
    "\n",
    "quantization_config = BitsAndBytesConfig(\n",
    "    load_in_4bit=True,\n",
    "    bnb_4bit_use_double_quant=True,\n",
    "    bnb_4bit_quant_type=\"nf4\",\n",
    "    bnb_4bit_compute_dtype=dtype\n",
    ")\n",
    "\n",
    "model = AutoModelForCausalLM.from_pretrained(\n",
    "    model_name,\n",
    "    quantization_config=quantization_config,\n",
    "    torch_dtype=dtype\n",
    ")\n",
    "\n",
    "model.config.max_position_embeddings = max_seq_length\n",
    "\n",
    "tokenizer = AutoTokenizer.from_pretrained(model_name)\n"
   ]
  },
  {
   "cell_type": "code",
   "execution_count": null,
   "metadata": {},
   "outputs": [],
   "source": []
  },
  {
   "cell_type": "code",
   "execution_count": 17,
   "metadata": {},
   "outputs": [],
   "source": [
    "from peft import get_peft_model, LoraConfig\n",
    "\n",
    "# LoRA 설정을 정의합니다.\n",
    "lora_config = LoraConfig(\n",
    "    r=4,\n",
    "    lora_alpha=32,\n",
    "    lora_dropout=0.05,\n",
    "    target_modules=[\n",
    "        \"q_proj\",\n",
    "        \"k_proj\",\n",
    "        \"v_proj\",\n",
    "        \"o_proj\",\n",
    "        \"gate_proj\",\n",
    "        \"up_proj\",\n",
    "        \"down_proj\",\n",
    "    ],\n",
    "    bias=\"none\",\n",
    "    use_rslora=False\n",
    ")\n",
    "\n",
    "# 모델을 PEFT 방식으로 변환합니다.\n",
    "model = get_peft_model(model, lora_config)\n",
    "\n",
    "# gradient checkpointing을 모델의 config에 직접 설정합니다.\n",
    "model.config.gradient_checkpointing = True\n"
   ]
  },
  {
   "cell_type": "code",
   "execution_count": 48,
   "metadata": {},
   "outputs": [],
   "source": [
    "from datasets import load_dataset\n",
    "\n",
    "# EOS_TOKEN은 문장의 끝을 나타내는 토큰입니다. 이 토큰을 추가해야 합니다.\n",
    "EOS_TOKEN = tokenizer.eos_token\n",
    "\n",
    "# AlpacaPrompt를 사용하여 지시사항을 포맷팅하는 함수입니다.\n",
    "alpaca_prompt = \"\"\"Below is an instruction that describes a task. Write a response that appropriately completes the request.\n",
    "\n",
    "### Instruction:\n",
    "{}\n",
    "\n",
    "### Response:\n",
    "{}\"\"\"\n",
    "\n",
    "\n",
    "# 주어진 예시들을 포맷팅하는 함수입니다.\n",
    "def formatting_prompts_func(examples):\n",
    "    instructions = examples[\"instruction\"]  # 지시사항을 가져옵니다.\n",
    "    outputs = examples[\"output\"]  # 출력값을 가져옵니다.\n",
    "    texts = []  # 포맷팅된 텍스트를 저장할 리스트입니다.\n",
    "    for instruction, output in zip(instructions, outputs):\n",
    "        # EOS_TOKEN을 추가해야 합니다. 그렇지 않으면 생성이 무한히 진행될 수 있습니다.\n",
    "        text = alpaca_prompt.format(instruction, output) + EOS_TOKEN\n",
    "        texts.append(text)\n",
    "    return {\n",
    "        \"text\": texts,  # 포맷팅된 텍스트를 반환합니다.\n",
    "    }\n",
    "\n",
    "\n",
    "# \"teddylee777/QA-Dataset-mini\" 데이터셋을 불러옵니다. 훈련 데이터만 사용합니다.\n",
    "dataset = load_dataset(\"teddylee777/QA-Dataset-mini\", split=\"train\")\n",
    "\n",
    "# 데이터셋에 formatting_prompts_func 함수를 적용합니다. 배치 처리를 활성화합니다.\n",
    "dataset = dataset.map(\n",
    "    formatting_prompts_func,\n",
    "    batched=True,\n",
    ")\n",
    "\n",
    "# 패딩 토큰을 eos_token으로 설정합니다.\n",
    "if tokenizer.pad_token is None:\n",
    "    tokenizer.pad_token = tokenizer.eos_token"
   ]
  },
  {
   "cell_type": "code",
   "execution_count": 25,
   "metadata": {},
   "outputs": [
    {
     "name": "stderr",
     "output_type": "stream",
     "text": [
      "c:\\Anaconda3\\envs\\kollm\\Lib\\site-packages\\transformers\\training_args.py:1494: FutureWarning: `evaluation_strategy` is deprecated and will be removed in version 4.46 of 🤗 Transformers. Use `eval_strategy` instead\n",
      "  warnings.warn(\n",
      "c:\\Anaconda3\\envs\\kollm\\Lib\\site-packages\\huggingface_hub\\utils\\_deprecation.py:100: FutureWarning: Deprecated argument(s) used in '__init__': dataset_text_field, max_seq_length, dataset_num_proc. Will not be supported from version '1.0.0'.\n",
      "\n",
      "Deprecated positional argument(s) used in SFTTrainer, please use the SFTConfig to set these arguments instead.\n",
      "  warnings.warn(message, FutureWarning)\n",
      "c:\\Anaconda3\\envs\\kollm\\Lib\\site-packages\\transformers\\training_args.py:1961: FutureWarning: `--push_to_hub_token` is deprecated and will be removed in version 5 of 🤗 Transformers. Use `--hub_token` instead.\n",
      "  warnings.warn(\n",
      "c:\\Anaconda3\\envs\\kollm\\Lib\\site-packages\\trl\\trainer\\sft_trainer.py:269: UserWarning: You passed a `max_seq_length` argument to the SFTTrainer, the value you passed will override the one in the `SFTConfig`.\n",
      "  warnings.warn(\n",
      "c:\\Anaconda3\\envs\\kollm\\Lib\\site-packages\\trl\\trainer\\sft_trainer.py:283: UserWarning: You passed a `dataset_num_proc` argument to the SFTTrainer, the value you passed will override the one in the `SFTConfig`.\n",
      "  warnings.warn(\n",
      "c:\\Anaconda3\\envs\\kollm\\Lib\\site-packages\\trl\\trainer\\sft_trainer.py:307: UserWarning: You passed a `dataset_text_field` argument to the SFTTrainer, the value you passed will override the one in the `SFTConfig`.\n",
      "  warnings.warn(\n"
     ]
    },
    {
     "data": {
      "application/vnd.jupyter.widget-view+json": {
       "model_id": "c05a39dd16604e50a4f6ece436fb90d3",
       "version_major": 2,
       "version_minor": 0
      },
      "text/plain": [
       "Map (num_proc=2):   0%|          | 0/16 [00:00<?, ? examples/s]"
      ]
     },
     "metadata": {},
     "output_type": "display_data"
    },
    {
     "name": "stderr",
     "output_type": "stream",
     "text": [
      "max_steps is given, it will override any value given in num_train_epochs\n"
     ]
    }
   ],
   "source": [
    "from trl import SFTTrainer\n",
    "from transformers import TrainingArguments\n",
    "\n",
    "tokenizer.padding_side = \"right\"  # 토크나이저의 패딩을 오른쪽으로 설정합니다.\n",
    "\n",
    "# SFTTrainer를 사용하여 모델 학습 설정\n",
    "trainer = SFTTrainer(\n",
    "    model=model,  # 학습할 모델\n",
    "    tokenizer=tokenizer,  # 토크나이저\n",
    "    train_dataset=dataset,  # 학습 데이터셋\n",
    "    eval_dataset=dataset,\n",
    "    dataset_text_field=\"text\",  # 데이터셋에서 텍스트 필드의 이름\n",
    "    max_seq_length=max_seq_length,  # 최대 시퀀스 길이\n",
    "    dataset_num_proc=2,  # 데이터 처리에 사용할 프로세스 수\n",
    "    packing=False,  # 짧은 시퀀스에 대한 학습 속도를 5배 빠르게 할 수 있음\n",
    "    args=TrainingArguments(\n",
    "        per_device_train_batch_size=2,  # 각 디바이스당 훈련 배치 크기\n",
    "        gradient_accumulation_steps=4,  # 그래디언트 누적 단계\n",
    "        warmup_steps=5,  # 웜업 스텝 수\n",
    "        num_train_epochs=3,  # 훈련 에폭 수\n",
    "        max_steps=100,  # 최대 스텝 수\n",
    "        do_eval=True,\n",
    "        evaluation_strategy=\"steps\",\n",
    "        logging_steps=1,  # logging 스텝 수\n",
    "        learning_rate=2e-4,  # 학습률\n",
    "        fp16=not torch.cuda.is_bf16_supported(),  # fp16 사용 여부, bf16이 지원되지 않는 경우에만 사용\n",
    "        bf16=torch.cuda.is_bf16_supported(),  # bf16 사용 여부, bf16이 지원되는 경우에만 사용\n",
    "        optim=\"adamw_8bit\",  # 최적화 알고리즘\n",
    "        weight_decay=0.01,  # 가중치 감소\n",
    "        lr_scheduler_type=\"cosine\",  # 학습률 스케줄러 유형\n",
    "        seed=123,  # 랜덤 시드\n",
    "        output_dir=\"outputs\",  # 출력 디렉토리\n",
    "    ),\n",
    ")"
   ]
  },
  {
   "cell_type": "code",
   "execution_count": 26,
   "metadata": {},
   "outputs": [
    {
     "name": "stdout",
     "output_type": "stream",
     "text": [
      "GPU = NVIDIA GeForce RTX 3070 Laptop GPU. Max memory = 8.0 GB.\n",
      "5.508 GB of memory reserved.\n"
     ]
    }
   ],
   "source": [
    "# 현재 메모리 상태를 보여주는 코드\n",
    "gpu_stats = torch.cuda.get_device_properties(0)  # GPU 속성 가져오기\n",
    "start_gpu_memory = round(\n",
    "    torch.cuda.max_memory_reserved() / 1024 / 1024 / 1024, 3\n",
    ")  # 시작 시 예약된 GPU 메모리 계산\n",
    "max_memory = round(\n",
    "    gpu_stats.total_memory / 1024 / 1024 / 1024, 3\n",
    ")  # GPU의 최대 메모리 계산\n",
    "print(\n",
    "    f\"GPU = {gpu_stats.name}. Max memory = {max_memory} GB.\"\n",
    ")  # GPU 이름과 최대 메모리 출력\n",
    "print(f\"{start_gpu_memory} GB of memory reserved.\")  # 예약된 메모리 양 출력"
   ]
  },
  {
   "cell_type": "code",
   "execution_count": 27,
   "metadata": {},
   "outputs": [
    {
     "data": {
      "application/vnd.jupyter.widget-view+json": {
       "model_id": "642fa3d105364bada8de15eb52c8819e",
       "version_major": 2,
       "version_minor": 0
      },
      "text/plain": [
       "  0%|          | 0/100 [00:00<?, ?it/s]"
      ]
     },
     "metadata": {},
     "output_type": "display_data"
    },
    {
     "name": "stderr",
     "output_type": "stream",
     "text": [
      "We detected that you are passing `past_key_values` as a tuple and this is deprecated and will be removed in v4.43. Please use an appropriate `Cache` class (https://huggingface.co/docs/transformers/v4.41.3/en/internal/generation_utils#transformers.Cache)\n",
      "c:\\Anaconda3\\envs\\kollm\\Lib\\site-packages\\transformers\\models\\llama\\modeling_llama.py:648: UserWarning: 1Torch was not compiled with flash attention. (Triggered internally at ..\\aten\\src\\ATen\\native\\transformers\\cuda\\sdp_utils.cpp:455.)\n",
      "  attn_output = torch.nn.functional.scaled_dot_product_attention(\n"
     ]
    },
    {
     "name": "stdout",
     "output_type": "stream",
     "text": [
      "{'loss': 13.3672, 'grad_norm': 44.030723571777344, 'learning_rate': 4e-05, 'epoch': 0.5}\n"
     ]
    },
    {
     "data": {
      "application/vnd.jupyter.widget-view+json": {
       "model_id": "28bddba5de004e0a9814790fea181f32",
       "version_major": 2,
       "version_minor": 0
      },
      "text/plain": [
       "  0%|          | 0/2 [00:00<?, ?it/s]"
      ]
     },
     "metadata": {},
     "output_type": "display_data"
    },
    {
     "name": "stdout",
     "output_type": "stream",
     "text": [
      "{'eval_runtime': 56.5091, 'eval_samples_per_second': 0.283, 'eval_steps_per_second': 0.035, 'epoch': 0.5}\n",
      "{'loss': 13.5156, 'grad_norm': 42.509883880615234, 'learning_rate': 8e-05, 'epoch': 1.0}\n"
     ]
    },
    {
     "data": {
      "application/vnd.jupyter.widget-view+json": {
       "model_id": "f748ac30c75e43a4972faa55496db4a5",
       "version_major": 2,
       "version_minor": 0
      },
      "text/plain": [
       "  0%|          | 0/2 [00:00<?, ?it/s]"
      ]
     },
     "metadata": {},
     "output_type": "display_data"
    },
    {
     "name": "stdout",
     "output_type": "stream",
     "text": [
      "{'eval_runtime': 55.0862, 'eval_samples_per_second': 0.29, 'eval_steps_per_second': 0.036, 'epoch': 1.0}\n",
      "{'loss': 13.0078, 'grad_norm': 46.21337890625, 'learning_rate': 0.00012, 'epoch': 1.5}\n"
     ]
    },
    {
     "data": {
      "application/vnd.jupyter.widget-view+json": {
       "model_id": "cf6eb7a703e64458aab1782fbfbf057f",
       "version_major": 2,
       "version_minor": 0
      },
      "text/plain": [
       "  0%|          | 0/2 [00:00<?, ?it/s]"
      ]
     },
     "metadata": {},
     "output_type": "display_data"
    },
    {
     "name": "stdout",
     "output_type": "stream",
     "text": [
      "{'eval_runtime': 58.5797, 'eval_samples_per_second': 0.273, 'eval_steps_per_second': 0.034, 'epoch': 1.5}\n",
      "{'loss': 11.2031, 'grad_norm': 61.026466369628906, 'learning_rate': 0.00016, 'epoch': 2.0}\n"
     ]
    },
    {
     "data": {
      "application/vnd.jupyter.widget-view+json": {
       "model_id": "d554e6a9c99b428a9a5d8386017a6d07",
       "version_major": 2,
       "version_minor": 0
      },
      "text/plain": [
       "  0%|          | 0/2 [00:00<?, ?it/s]"
      ]
     },
     "metadata": {},
     "output_type": "display_data"
    },
    {
     "name": "stdout",
     "output_type": "stream",
     "text": [
      "{'eval_runtime': 60.0072, 'eval_samples_per_second': 0.267, 'eval_steps_per_second': 0.033, 'epoch': 2.0}\n",
      "{'loss': 10.0625, 'grad_norm': 60.36443328857422, 'learning_rate': 0.0002, 'epoch': 2.5}\n"
     ]
    },
    {
     "data": {
      "application/vnd.jupyter.widget-view+json": {
       "model_id": "9f0a5dbf11dd49268a20e3344906ef0b",
       "version_major": 2,
       "version_minor": 0
      },
      "text/plain": [
       "  0%|          | 0/2 [00:00<?, ?it/s]"
      ]
     },
     "metadata": {},
     "output_type": "display_data"
    },
    {
     "name": "stdout",
     "output_type": "stream",
     "text": [
      "{'eval_runtime': 58.9101, 'eval_samples_per_second': 0.272, 'eval_steps_per_second': 0.034, 'epoch': 2.5}\n",
      "{'loss': 10.4688, 'grad_norm': 149.2111358642578, 'learning_rate': 0.00019994532573409262, 'epoch': 3.0}\n"
     ]
    },
    {
     "data": {
      "application/vnd.jupyter.widget-view+json": {
       "model_id": "3df39bc64d084dc4adccadfdcd419daa",
       "version_major": 2,
       "version_minor": 0
      },
      "text/plain": [
       "  0%|          | 0/2 [00:00<?, ?it/s]"
      ]
     },
     "metadata": {},
     "output_type": "display_data"
    },
    {
     "name": "stdout",
     "output_type": "stream",
     "text": [
      "{'eval_runtime': 56.634, 'eval_samples_per_second': 0.283, 'eval_steps_per_second': 0.035, 'epoch': 3.0}\n",
      "{'loss': 9.2422, 'grad_norm': 38.76744842529297, 'learning_rate': 0.00019978136272187747, 'epoch': 3.5}\n"
     ]
    },
    {
     "data": {
      "application/vnd.jupyter.widget-view+json": {
       "model_id": "478c8e210389422699f3ab7b73138445",
       "version_major": 2,
       "version_minor": 0
      },
      "text/plain": [
       "  0%|          | 0/2 [00:00<?, ?it/s]"
      ]
     },
     "metadata": {},
     "output_type": "display_data"
    },
    {
     "name": "stdout",
     "output_type": "stream",
     "text": [
      "{'eval_runtime': 55.403, 'eval_samples_per_second': 0.289, 'eval_steps_per_second': 0.036, 'epoch': 3.5}\n",
      "{'loss': 8.9688, 'grad_norm': 59.63603591918945, 'learning_rate': 0.00019950829025450114, 'epoch': 4.0}\n"
     ]
    },
    {
     "data": {
      "application/vnd.jupyter.widget-view+json": {
       "model_id": "73d6df76639a47ad8dccb90681acd07c",
       "version_major": 2,
       "version_minor": 0
      },
      "text/plain": [
       "  0%|          | 0/2 [00:00<?, ?it/s]"
      ]
     },
     "metadata": {},
     "output_type": "display_data"
    },
    {
     "name": "stdout",
     "output_type": "stream",
     "text": [
      "{'eval_runtime': 54.496, 'eval_samples_per_second': 0.294, 'eval_steps_per_second': 0.037, 'epoch': 4.0}\n",
      "{'loss': 8.6094, 'grad_norm': 35.717369079589844, 'learning_rate': 0.00019912640693269752, 'epoch': 4.5}\n"
     ]
    },
    {
     "data": {
      "application/vnd.jupyter.widget-view+json": {
       "model_id": "24adb1799fb54006819c86f0df6f06ee",
       "version_major": 2,
       "version_minor": 0
      },
      "text/plain": [
       "  0%|          | 0/2 [00:00<?, ?it/s]"
      ]
     },
     "metadata": {},
     "output_type": "display_data"
    },
    {
     "name": "stdout",
     "output_type": "stream",
     "text": [
      "{'eval_runtime': 56.3496, 'eval_samples_per_second': 0.284, 'eval_steps_per_second': 0.035, 'epoch': 4.5}\n",
      "{'loss': 9.1797, 'grad_norm': 82.95431518554688, 'learning_rate': 0.00019863613034027224, 'epoch': 5.0}\n"
     ]
    },
    {
     "data": {
      "application/vnd.jupyter.widget-view+json": {
       "model_id": "9c788723c85c42c1875f27d914d65306",
       "version_major": 2,
       "version_minor": 0
      },
      "text/plain": [
       "  0%|          | 0/2 [00:00<?, ?it/s]"
      ]
     },
     "metadata": {},
     "output_type": "display_data"
    },
    {
     "name": "stdout",
     "output_type": "stream",
     "text": [
      "{'eval_runtime': 56.8206, 'eval_samples_per_second': 0.282, 'eval_steps_per_second': 0.035, 'epoch': 5.0}\n",
      "{'loss': 8.0391, 'grad_norm': 29.31797218322754, 'learning_rate': 0.00019803799658748094, 'epoch': 5.5}\n"
     ]
    },
    {
     "data": {
      "application/vnd.jupyter.widget-view+json": {
       "model_id": "9d5e840f44fb45409132744895064777",
       "version_major": 2,
       "version_minor": 0
      },
      "text/plain": [
       "  0%|          | 0/2 [00:00<?, ?it/s]"
      ]
     },
     "metadata": {},
     "output_type": "display_data"
    },
    {
     "name": "stdout",
     "output_type": "stream",
     "text": [
      "{'eval_runtime': 60.1322, 'eval_samples_per_second': 0.266, 'eval_steps_per_second': 0.033, 'epoch': 5.5}\n",
      "{'loss': 8.1406, 'grad_norm': 62.27651596069336, 'learning_rate': 0.0001973326597248006, 'epoch': 6.0}\n"
     ]
    },
    {
     "data": {
      "application/vnd.jupyter.widget-view+json": {
       "model_id": "9cc6e629ccb947b3908a9e686b309f7d",
       "version_major": 2,
       "version_minor": 0
      },
      "text/plain": [
       "  0%|          | 0/2 [00:00<?, ?it/s]"
      ]
     },
     "metadata": {},
     "output_type": "display_data"
    },
    {
     "name": "stdout",
     "output_type": "stream",
     "text": [
      "{'eval_runtime': 58.3384, 'eval_samples_per_second': 0.274, 'eval_steps_per_second': 0.034, 'epoch': 6.0}\n",
      "{'loss': 7.7773, 'grad_norm': 28.603723526000977, 'learning_rate': 0.00019652089102773488, 'epoch': 6.5}\n"
     ]
    },
    {
     "data": {
      "application/vnd.jupyter.widget-view+json": {
       "model_id": "17b95e49dad34a1fb4c2fe7c73f8a528",
       "version_major": 2,
       "version_minor": 0
      },
      "text/plain": [
       "  0%|          | 0/2 [00:00<?, ?it/s]"
      ]
     },
     "metadata": {},
     "output_type": "display_data"
    },
    {
     "name": "stdout",
     "output_type": "stream",
     "text": [
      "{'eval_runtime': 55.8564, 'eval_samples_per_second': 0.286, 'eval_steps_per_second': 0.036, 'epoch': 6.5}\n",
      "{'loss': 7.5273, 'grad_norm': 37.30525588989258, 'learning_rate': 0.00019560357815343577, 'epoch': 7.0}\n"
     ]
    },
    {
     "data": {
      "application/vnd.jupyter.widget-view+json": {
       "model_id": "09a6518100774910bc87d97f902fba92",
       "version_major": 2,
       "version_minor": 0
      },
      "text/plain": [
       "  0%|          | 0/2 [00:00<?, ?it/s]"
      ]
     },
     "metadata": {},
     "output_type": "display_data"
    },
    {
     "name": "stdout",
     "output_type": "stream",
     "text": [
      "{'eval_runtime': 56.4274, 'eval_samples_per_second': 0.284, 'eval_steps_per_second': 0.035, 'epoch': 7.0}\n",
      "{'loss': 7.4883, 'grad_norm': 22.827680587768555, 'learning_rate': 0.00019458172417006347, 'epoch': 7.5}\n"
     ]
    },
    {
     "data": {
      "application/vnd.jupyter.widget-view+json": {
       "model_id": "1c9f2ee911bf48fb81d72c9100c3a5b8",
       "version_major": 2,
       "version_minor": 0
      },
      "text/plain": [
       "  0%|          | 0/2 [00:00<?, ?it/s]"
      ]
     },
     "metadata": {},
     "output_type": "display_data"
    },
    {
     "name": "stdout",
     "output_type": "stream",
     "text": [
      "{'eval_runtime': 56.5161, 'eval_samples_per_second': 0.283, 'eval_steps_per_second': 0.035, 'epoch': 7.5}\n",
      "{'loss': 7.0312, 'grad_norm': 26.610307693481445, 'learning_rate': 0.0001934564464599461, 'epoch': 8.0}\n"
     ]
    },
    {
     "data": {
      "application/vnd.jupyter.widget-view+json": {
       "model_id": "49328758ed0e4802b7c8351cda90d5b0",
       "version_major": 2,
       "version_minor": 0
      },
      "text/plain": [
       "  0%|          | 0/2 [00:00<?, ?it/s]"
      ]
     },
     "metadata": {},
     "output_type": "display_data"
    },
    {
     "name": "stdout",
     "output_type": "stream",
     "text": [
      "{'eval_runtime': 55.4558, 'eval_samples_per_second': 0.289, 'eval_steps_per_second': 0.036, 'epoch': 8.0}\n",
      "{'loss': 7.6523, 'grad_norm': 79.53582000732422, 'learning_rate': 0.00019222897549773848, 'epoch': 8.5}\n"
     ]
    },
    {
     "data": {
      "application/vnd.jupyter.widget-view+json": {
       "model_id": "5cc9e0e78f6f4d7bb8cdeaa22f54fc24",
       "version_major": 2,
       "version_minor": 0
      },
      "text/plain": [
       "  0%|          | 0/2 [00:00<?, ?it/s]"
      ]
     },
     "metadata": {},
     "output_type": "display_data"
    },
    {
     "name": "stdout",
     "output_type": "stream",
     "text": [
      "{'eval_runtime': 55.8515, 'eval_samples_per_second': 0.286, 'eval_steps_per_second': 0.036, 'epoch': 8.5}\n",
      "{'loss': 7.1875, 'grad_norm': 31.985342025756836, 'learning_rate': 0.00019090065350491626, 'epoch': 9.0}\n"
     ]
    },
    {
     "data": {
      "application/vnd.jupyter.widget-view+json": {
       "model_id": "37ecf1d6bd1f4f8aa564aa425a0a049e",
       "version_major": 2,
       "version_minor": 0
      },
      "text/plain": [
       "  0%|          | 0/2 [00:00<?, ?it/s]"
      ]
     },
     "metadata": {},
     "output_type": "display_data"
    },
    {
     "name": "stdout",
     "output_type": "stream",
     "text": [
      "{'eval_runtime': 56.344, 'eval_samples_per_second': 0.284, 'eval_steps_per_second': 0.035, 'epoch': 9.0}\n",
      "{'loss': 6.9062, 'grad_norm': 51.24175262451172, 'learning_rate': 0.00018947293298207635, 'epoch': 9.5}\n"
     ]
    },
    {
     "data": {
      "application/vnd.jupyter.widget-view+json": {
       "model_id": "dcdfec80d7bb4c98b9f4d28c23a47645",
       "version_major": 2,
       "version_minor": 0
      },
      "text/plain": [
       "  0%|          | 0/2 [00:00<?, ?it/s]"
      ]
     },
     "metadata": {},
     "output_type": "display_data"
    },
    {
     "name": "stdout",
     "output_type": "stream",
     "text": [
      "{'eval_runtime': 56.5567, 'eval_samples_per_second': 0.283, 'eval_steps_per_second': 0.035, 'epoch': 9.5}\n",
      "{'loss': 6.8242, 'grad_norm': 26.604839324951172, 'learning_rate': 0.0001879473751206489, 'epoch': 10.0}\n"
     ]
    },
    {
     "data": {
      "application/vnd.jupyter.widget-view+json": {
       "model_id": "09c7dcc5cacd40f88b2470b0c90c5a38",
       "version_major": 2,
       "version_minor": 0
      },
      "text/plain": [
       "  0%|          | 0/2 [00:00<?, ?it/s]"
      ]
     },
     "metadata": {},
     "output_type": "display_data"
    },
    {
     "name": "stdout",
     "output_type": "stream",
     "text": [
      "{'eval_runtime': 57.5047, 'eval_samples_per_second': 0.278, 'eval_steps_per_second': 0.035, 'epoch': 10.0}\n",
      "{'loss': 6.7969, 'grad_norm': 52.1021614074707, 'learning_rate': 0.00018632564809575742, 'epoch': 10.5}\n"
     ]
    },
    {
     "data": {
      "application/vnd.jupyter.widget-view+json": {
       "model_id": "da3ebaf62d964b4994b959d2da231a10",
       "version_major": 2,
       "version_minor": 0
      },
      "text/plain": [
       "  0%|          | 0/2 [00:00<?, ?it/s]"
      ]
     },
     "metadata": {},
     "output_type": "display_data"
    },
    {
     "name": "stdout",
     "output_type": "stream",
     "text": [
      "{'eval_runtime': 57.4451, 'eval_samples_per_second': 0.279, 'eval_steps_per_second': 0.035, 'epoch': 10.5}\n",
      "{'loss': 6.6172, 'grad_norm': 24.6672420501709, 'learning_rate': 0.00018460952524209355, 'epoch': 11.0}\n"
     ]
    },
    {
     "data": {
      "application/vnd.jupyter.widget-view+json": {
       "model_id": "57c1dd2b469c47068c74b01457a4453b",
       "version_major": 2,
       "version_minor": 0
      },
      "text/plain": [
       "  0%|          | 0/2 [00:00<?, ?it/s]"
      ]
     },
     "metadata": {},
     "output_type": "display_data"
    },
    {
     "name": "stdout",
     "output_type": "stream",
     "text": [
      "{'eval_runtime': 57.4365, 'eval_samples_per_second': 0.279, 'eval_steps_per_second': 0.035, 'epoch': 11.0}\n",
      "{'loss': 6.1953, 'grad_norm': 42.8138313293457, 'learning_rate': 0.00018280088311480201, 'epoch': 11.5}\n"
     ]
    },
    {
     "data": {
      "application/vnd.jupyter.widget-view+json": {
       "model_id": "924ad2c158bb4bb789e5cc6965ee5cec",
       "version_major": 2,
       "version_minor": 0
      },
      "text/plain": [
       "  0%|          | 0/2 [00:00<?, ?it/s]"
      ]
     },
     "metadata": {},
     "output_type": "display_data"
    },
    {
     "name": "stdout",
     "output_type": "stream",
     "text": [
      "{'eval_runtime': 25.2776, 'eval_samples_per_second': 0.633, 'eval_steps_per_second': 0.079, 'epoch': 11.5}\n",
      "{'loss': 6.4648, 'grad_norm': 24.46128273010254, 'learning_rate': 0.00018090169943749476, 'epoch': 12.0}\n"
     ]
    },
    {
     "data": {
      "application/vnd.jupyter.widget-view+json": {
       "model_id": "0a6879de6941425f96e2c2546f0b8ae3",
       "version_major": 2,
       "version_minor": 0
      },
      "text/plain": [
       "  0%|          | 0/2 [00:00<?, ?it/s]"
      ]
     },
     "metadata": {},
     "output_type": "display_data"
    },
    {
     "name": "stdout",
     "output_type": "stream",
     "text": [
      "{'eval_runtime': 25.3072, 'eval_samples_per_second': 0.632, 'eval_steps_per_second': 0.079, 'epoch': 12.0}\n",
      "{'loss': 6.1055, 'grad_norm': 31.841596603393555, 'learning_rate': 0.00017891405093963938, 'epoch': 12.5}\n"
     ]
    },
    {
     "data": {
      "application/vnd.jupyter.widget-view+json": {
       "model_id": "fec92c69caa4486c8e5cc41d459daf32",
       "version_major": 2,
       "version_minor": 0
      },
      "text/plain": [
       "  0%|          | 0/2 [00:00<?, ?it/s]"
      ]
     },
     "metadata": {},
     "output_type": "display_data"
    },
    {
     "name": "stdout",
     "output_type": "stream",
     "text": [
      "{'eval_runtime': 25.2931, 'eval_samples_per_second': 0.633, 'eval_steps_per_second': 0.079, 'epoch': 12.5}\n",
      "{'loss': 6.2539, 'grad_norm': 32.255409240722656, 'learning_rate': 0.00017684011108568592, 'epoch': 13.0}\n"
     ]
    },
    {
     "data": {
      "application/vnd.jupyter.widget-view+json": {
       "model_id": "aa8b5e05241a4594b496c2b7d45cd7cf",
       "version_major": 2,
       "version_minor": 0
      },
      "text/plain": [
       "  0%|          | 0/2 [00:00<?, ?it/s]"
      ]
     },
     "metadata": {},
     "output_type": "display_data"
    },
    {
     "name": "stdout",
     "output_type": "stream",
     "text": [
      "{'eval_runtime': 25.2858, 'eval_samples_per_second': 0.633, 'eval_steps_per_second': 0.079, 'epoch': 13.0}\n",
      "{'loss': 6.5898, 'grad_norm': 52.19340515136719, 'learning_rate': 0.0001746821476984154, 'epoch': 13.5}\n"
     ]
    },
    {
     "data": {
      "application/vnd.jupyter.widget-view+json": {
       "model_id": "0d847f74db894480888e0126ce0d6b1d",
       "version_major": 2,
       "version_minor": 0
      },
      "text/plain": [
       "  0%|          | 0/2 [00:00<?, ?it/s]"
      ]
     },
     "metadata": {},
     "output_type": "display_data"
    },
    {
     "name": "stdout",
     "output_type": "stream",
     "text": [
      "{'eval_runtime': 25.2856, 'eval_samples_per_second': 0.633, 'eval_steps_per_second': 0.079, 'epoch': 13.5}\n",
      "{'loss': 5.707, 'grad_norm': 22.086345672607422, 'learning_rate': 0.00017244252047910892, 'epoch': 14.0}\n"
     ]
    },
    {
     "data": {
      "application/vnd.jupyter.widget-view+json": {
       "model_id": "98796bead7134880ade02507006e50e5",
       "version_major": 2,
       "version_minor": 0
      },
      "text/plain": [
       "  0%|          | 0/2 [00:00<?, ?it/s]"
      ]
     },
     "metadata": {},
     "output_type": "display_data"
    },
    {
     "name": "stdout",
     "output_type": "stream",
     "text": [
      "{'eval_runtime': 25.2843, 'eval_samples_per_second': 0.633, 'eval_steps_per_second': 0.079, 'epoch': 14.0}\n",
      "{'loss': 5.5664, 'grad_norm': 29.826980590820312, 'learning_rate': 0.00017012367842724887, 'epoch': 14.5}\n"
     ]
    },
    {
     "data": {
      "application/vnd.jupyter.widget-view+json": {
       "model_id": "c6f4e83e0ff943c699246d89dfb3b170",
       "version_major": 2,
       "version_minor": 0
      },
      "text/plain": [
       "  0%|          | 0/2 [00:00<?, ?it/s]"
      ]
     },
     "metadata": {},
     "output_type": "display_data"
    },
    {
     "name": "stdout",
     "output_type": "stream",
     "text": [
      "{'eval_runtime': 25.2895, 'eval_samples_per_second': 0.633, 'eval_steps_per_second': 0.079, 'epoch': 14.5}\n",
      "{'loss': 5.5703, 'grad_norm': 28.96565818786621, 'learning_rate': 0.00016772815716257412, 'epoch': 15.0}\n"
     ]
    },
    {
     "data": {
      "application/vnd.jupyter.widget-view+json": {
       "model_id": "78483ec8f5c04cbe9b06ea27d499749d",
       "version_major": 2,
       "version_minor": 0
      },
      "text/plain": [
       "  0%|          | 0/2 [00:00<?, ?it/s]"
      ]
     },
     "metadata": {},
     "output_type": "display_data"
    },
    {
     "name": "stdout",
     "output_type": "stream",
     "text": [
      "{'eval_runtime': 25.2811, 'eval_samples_per_second': 0.633, 'eval_steps_per_second': 0.079, 'epoch': 15.0}\n",
      "{'loss': 4.9609, 'grad_norm': 35.64797592163086, 'learning_rate': 0.00016525857615241687, 'epoch': 15.5}\n"
     ]
    },
    {
     "data": {
      "application/vnd.jupyter.widget-view+json": {
       "model_id": "c5bd16d075a44940a369c3529a243db7",
       "version_major": 2,
       "version_minor": 0
      },
      "text/plain": [
       "  0%|          | 0/2 [00:00<?, ?it/s]"
      ]
     },
     "metadata": {},
     "output_type": "display_data"
    },
    {
     "name": "stdout",
     "output_type": "stream",
     "text": [
      "{'eval_runtime': 25.2816, 'eval_samples_per_second': 0.633, 'eval_steps_per_second': 0.079, 'epoch': 15.5}\n",
      "{'loss': 5.6602, 'grad_norm': 57.19598388671875, 'learning_rate': 0.0001627176358473537, 'epoch': 16.0}\n"
     ]
    },
    {
     "data": {
      "application/vnd.jupyter.widget-view+json": {
       "model_id": "6d641159515042f2ac37d23ffd8a804d",
       "version_major": 2,
       "version_minor": 0
      },
      "text/plain": [
       "  0%|          | 0/2 [00:00<?, ?it/s]"
      ]
     },
     "metadata": {},
     "output_type": "display_data"
    },
    {
     "name": "stdout",
     "output_type": "stream",
     "text": [
      "{'eval_runtime': 25.2872, 'eval_samples_per_second': 0.633, 'eval_steps_per_second': 0.079, 'epoch': 16.0}\n",
      "{'loss': 4.8633, 'grad_norm': 26.795387268066406, 'learning_rate': 0.00016010811472830252, 'epoch': 16.5}\n"
     ]
    },
    {
     "data": {
      "application/vnd.jupyter.widget-view+json": {
       "model_id": "c0562139d5ff4e398bb5546eaaac3506",
       "version_major": 2,
       "version_minor": 0
      },
      "text/plain": [
       "  0%|          | 0/2 [00:00<?, ?it/s]"
      ]
     },
     "metadata": {},
     "output_type": "display_data"
    },
    {
     "name": "stdout",
     "output_type": "stream",
     "text": [
      "{'eval_runtime': 25.2949, 'eval_samples_per_second': 0.633, 'eval_steps_per_second': 0.079, 'epoch': 16.5}\n",
      "{'loss': 5.0234, 'grad_norm': 39.5965690612793, 'learning_rate': 0.00015743286626829437, 'epoch': 17.0}\n"
     ]
    },
    {
     "data": {
      "application/vnd.jupyter.widget-view+json": {
       "model_id": "5e1b437f50bc48788e5a8720e60f8903",
       "version_major": 2,
       "version_minor": 0
      },
      "text/plain": [
       "  0%|          | 0/2 [00:00<?, ?it/s]"
      ]
     },
     "metadata": {},
     "output_type": "display_data"
    },
    {
     "name": "stdout",
     "output_type": "stream",
     "text": [
      "{'eval_runtime': 25.2856, 'eval_samples_per_second': 0.633, 'eval_steps_per_second': 0.079, 'epoch': 17.0}\n",
      "{'loss': 4.9453, 'grad_norm': 39.72227096557617, 'learning_rate': 0.0001546948158122427, 'epoch': 17.5}\n"
     ]
    },
    {
     "data": {
      "application/vnd.jupyter.widget-view+json": {
       "model_id": "dbd5188258754602b31d7f1696d7cbf6",
       "version_major": 2,
       "version_minor": 0
      },
      "text/plain": [
       "  0%|          | 0/2 [00:00<?, ?it/s]"
      ]
     },
     "metadata": {},
     "output_type": "display_data"
    },
    {
     "name": "stdout",
     "output_type": "stream",
     "text": [
      "{'eval_runtime': 25.3033, 'eval_samples_per_second': 0.632, 'eval_steps_per_second': 0.079, 'epoch': 17.5}\n",
      "{'loss': 4.3672, 'grad_norm': 34.43489074707031, 'learning_rate': 0.00015189695737812152, 'epoch': 18.0}\n"
     ]
    },
    {
     "data": {
      "application/vnd.jupyter.widget-view+json": {
       "model_id": "99ef1ff500e64c45a918be9b578dfc80",
       "version_major": 2,
       "version_minor": 0
      },
      "text/plain": [
       "  0%|          | 0/2 [00:00<?, ?it/s]"
      ]
     },
     "metadata": {},
     "output_type": "display_data"
    },
    {
     "name": "stdout",
     "output_type": "stream",
     "text": [
      "{'eval_runtime': 25.3003, 'eval_samples_per_second': 0.632, 'eval_steps_per_second': 0.079, 'epoch': 18.0}\n",
      "{'loss': 4.2383, 'grad_norm': 35.107059478759766, 'learning_rate': 0.00014904235038305083, 'epoch': 18.5}\n"
     ]
    },
    {
     "data": {
      "application/vnd.jupyter.widget-view+json": {
       "model_id": "b23f3f48c414497790a12e1772d38fa0",
       "version_major": 2,
       "version_minor": 0
      },
      "text/plain": [
       "  0%|          | 0/2 [00:00<?, ?it/s]"
      ]
     },
     "metadata": {},
     "output_type": "display_data"
    },
    {
     "name": "stdout",
     "output_type": "stream",
     "text": [
      "{'eval_runtime': 25.3035, 'eval_samples_per_second': 0.632, 'eval_steps_per_second': 0.079, 'epoch': 18.5}\n",
      "{'loss': 4.1875, 'grad_norm': 42.23772048950195, 'learning_rate': 0.0001461341162978688, 'epoch': 19.0}\n"
     ]
    },
    {
     "data": {
      "application/vnd.jupyter.widget-view+json": {
       "model_id": "f5f8b332c46b43eabfb0cfe5300743c8",
       "version_major": 2,
       "version_minor": 0
      },
      "text/plain": [
       "  0%|          | 0/2 [00:00<?, ?it/s]"
      ]
     },
     "metadata": {},
     "output_type": "display_data"
    },
    {
     "name": "stdout",
     "output_type": "stream",
     "text": [
      "{'eval_runtime': 25.2942, 'eval_samples_per_second': 0.633, 'eval_steps_per_second': 0.079, 'epoch': 19.0}\n",
      "{'loss': 4.082, 'grad_norm': 32.496490478515625, 'learning_rate': 0.00014317543523384928, 'epoch': 19.5}\n"
     ]
    },
    {
     "data": {
      "application/vnd.jupyter.widget-view+json": {
       "model_id": "9e72423f8a07496f9d18d7f848d09794",
       "version_major": 2,
       "version_minor": 0
      },
      "text/plain": [
       "  0%|          | 0/2 [00:00<?, ?it/s]"
      ]
     },
     "metadata": {},
     "output_type": "display_data"
    },
    {
     "name": "stdout",
     "output_type": "stream",
     "text": [
      "{'eval_runtime': 25.2891, 'eval_samples_per_second': 0.633, 'eval_steps_per_second': 0.079, 'epoch': 19.5}\n",
      "{'loss': 3.7578, 'grad_norm': 33.4742431640625, 'learning_rate': 0.00014016954246529696, 'epoch': 20.0}\n"
     ]
    },
    {
     "data": {
      "application/vnd.jupyter.widget-view+json": {
       "model_id": "b035946ab8b14051a930e50619d410fe",
       "version_major": 2,
       "version_minor": 0
      },
      "text/plain": [
       "  0%|          | 0/2 [00:00<?, ?it/s]"
      ]
     },
     "metadata": {},
     "output_type": "display_data"
    },
    {
     "name": "stdout",
     "output_type": "stream",
     "text": [
      "{'eval_runtime': 25.2929, 'eval_samples_per_second': 0.633, 'eval_steps_per_second': 0.079, 'epoch': 20.0}\n",
      "{'loss': 3.3965, 'grad_norm': 28.471588134765625, 'learning_rate': 0.00013711972489182208, 'epoch': 20.5}\n"
     ]
    },
    {
     "data": {
      "application/vnd.jupyter.widget-view+json": {
       "model_id": "5fbd24e632d546a894aa9a480bd15ee5",
       "version_major": 2,
       "version_minor": 0
      },
      "text/plain": [
       "  0%|          | 0/2 [00:00<?, ?it/s]"
      ]
     },
     "metadata": {},
     "output_type": "display_data"
    },
    {
     "name": "stdout",
     "output_type": "stream",
     "text": [
      "{'eval_runtime': 25.29, 'eval_samples_per_second': 0.633, 'eval_steps_per_second': 0.079, 'epoch': 20.5}\n",
      "{'loss': 3.6992, 'grad_norm': 35.15892791748047, 'learning_rate': 0.00013402931744416433, 'epoch': 21.0}\n"
     ]
    },
    {
     "data": {
      "application/vnd.jupyter.widget-view+json": {
       "model_id": "3bd136a63645452f83cb9c9c49df5297",
       "version_major": 2,
       "version_minor": 0
      },
      "text/plain": [
       "  0%|          | 0/2 [00:00<?, ?it/s]"
      ]
     },
     "metadata": {},
     "output_type": "display_data"
    },
    {
     "name": "stdout",
     "output_type": "stream",
     "text": [
      "{'eval_runtime': 25.2946, 'eval_samples_per_second': 0.633, 'eval_steps_per_second': 0.079, 'epoch': 21.0}\n",
      "{'loss': 3.1094, 'grad_norm': 32.98757553100586, 'learning_rate': 0.00013090169943749476, 'epoch': 21.5}\n"
     ]
    },
    {
     "data": {
      "application/vnd.jupyter.widget-view+json": {
       "model_id": "8077e76f556040dd9cb3a009a2df7f8d",
       "version_major": 2,
       "version_minor": 0
      },
      "text/plain": [
       "  0%|          | 0/2 [00:00<?, ?it/s]"
      ]
     },
     "metadata": {},
     "output_type": "display_data"
    },
    {
     "name": "stdout",
     "output_type": "stream",
     "text": [
      "{'eval_runtime': 25.2932, 'eval_samples_per_second': 0.633, 'eval_steps_per_second': 0.079, 'epoch': 21.5}\n",
      "{'loss': 3.3203, 'grad_norm': 33.3343391418457, 'learning_rate': 0.00012774029087618446, 'epoch': 22.0}\n"
     ]
    },
    {
     "data": {
      "application/vnd.jupyter.widget-view+json": {
       "model_id": "2a95dbac3dc347a7b59f2f301437ee53",
       "version_major": 2,
       "version_minor": 0
      },
      "text/plain": [
       "  0%|          | 0/2 [00:00<?, ?it/s]"
      ]
     },
     "metadata": {},
     "output_type": "display_data"
    },
    {
     "name": "stdout",
     "output_type": "stream",
     "text": [
      "{'eval_runtime': 25.2861, 'eval_samples_per_second': 0.633, 'eval_steps_per_second': 0.079, 'epoch': 22.0}\n",
      "{'loss': 2.7871, 'grad_norm': 29.394105911254883, 'learning_rate': 0.00012454854871407994, 'epoch': 22.5}\n"
     ]
    },
    {
     "data": {
      "application/vnd.jupyter.widget-view+json": {
       "model_id": "1c079d84be9c4d4ea8552e0548dccdb3",
       "version_major": 2,
       "version_minor": 0
      },
      "text/plain": [
       "  0%|          | 0/2 [00:00<?, ?it/s]"
      ]
     },
     "metadata": {},
     "output_type": "display_data"
    },
    {
     "name": "stdout",
     "output_type": "stream",
     "text": [
      "{'eval_runtime': 25.2717, 'eval_samples_per_second': 0.633, 'eval_steps_per_second': 0.079, 'epoch': 22.5}\n",
      "{'loss': 2.9062, 'grad_norm': 26.976591110229492, 'learning_rate': 0.0001213299630743747, 'epoch': 23.0}\n"
     ]
    },
    {
     "data": {
      "application/vnd.jupyter.widget-view+json": {
       "model_id": "8398eeb38f864b048a8b40a25348271f",
       "version_major": 2,
       "version_minor": 0
      },
      "text/plain": [
       "  0%|          | 0/2 [00:00<?, ?it/s]"
      ]
     },
     "metadata": {},
     "output_type": "display_data"
    },
    {
     "name": "stdout",
     "output_type": "stream",
     "text": [
      "{'eval_runtime': 25.2853, 'eval_samples_per_second': 0.633, 'eval_steps_per_second': 0.079, 'epoch': 23.0}\n",
      "{'loss': 2.3438, 'grad_norm': 24.526479721069336, 'learning_rate': 0.000118088053433211, 'epoch': 23.5}\n"
     ]
    },
    {
     "data": {
      "application/vnd.jupyter.widget-view+json": {
       "model_id": "f4f76a1ea7274c9db8dfe5258d868808",
       "version_major": 2,
       "version_minor": 0
      },
      "text/plain": [
       "  0%|          | 0/2 [00:00<?, ?it/s]"
      ]
     },
     "metadata": {},
     "output_type": "display_data"
    },
    {
     "name": "stdout",
     "output_type": "stream",
     "text": [
      "{'eval_runtime': 25.288, 'eval_samples_per_second': 0.633, 'eval_steps_per_second': 0.079, 'epoch': 23.5}\n",
      "{'loss': 2.8301, 'grad_norm': 32.397891998291016, 'learning_rate': 0.0001148263647711842, 'epoch': 24.0}\n"
     ]
    },
    {
     "data": {
      "application/vnd.jupyter.widget-view+json": {
       "model_id": "9c3f38b795614637bc5cca1052093533",
       "version_major": 2,
       "version_minor": 0
      },
      "text/plain": [
       "  0%|          | 0/2 [00:00<?, ?it/s]"
      ]
     },
     "metadata": {},
     "output_type": "display_data"
    },
    {
     "name": "stdout",
     "output_type": "stream",
     "text": [
      "{'eval_runtime': 25.2925, 'eval_samples_per_second': 0.633, 'eval_steps_per_second': 0.079, 'epoch': 24.0}\n",
      "{'loss': 2.0898, 'grad_norm': 22.419292449951172, 'learning_rate': 0.00011154846369695863, 'epoch': 24.5}\n"
     ]
    },
    {
     "data": {
      "application/vnd.jupyter.widget-view+json": {
       "model_id": "5b5bd0db6d7044aeb9eb0341f7b26829",
       "version_major": 2,
       "version_minor": 0
      },
      "text/plain": [
       "  0%|          | 0/2 [00:00<?, ?it/s]"
      ]
     },
     "metadata": {},
     "output_type": "display_data"
    },
    {
     "name": "stdout",
     "output_type": "stream",
     "text": [
      "{'eval_runtime': 25.2956, 'eval_samples_per_second': 0.633, 'eval_steps_per_second': 0.079, 'epoch': 24.5}\n",
      "{'loss': 2.4688, 'grad_norm': 27.22140121459961, 'learning_rate': 0.00010825793454723325, 'epoch': 25.0}\n"
     ]
    },
    {
     "data": {
      "application/vnd.jupyter.widget-view+json": {
       "model_id": "b14f35507c3c40739a9beb7c32d3c164",
       "version_major": 2,
       "version_minor": 0
      },
      "text/plain": [
       "  0%|          | 0/2 [00:00<?, ?it/s]"
      ]
     },
     "metadata": {},
     "output_type": "display_data"
    },
    {
     "name": "stdout",
     "output_type": "stream",
     "text": [
      "{'eval_runtime': 25.3001, 'eval_samples_per_second': 0.632, 'eval_steps_per_second': 0.079, 'epoch': 25.0}\n",
      "{'loss': 1.9316, 'grad_norm': 19.52529525756836, 'learning_rate': 0.00010495837546732224, 'epoch': 25.5}\n"
     ]
    },
    {
     "data": {
      "application/vnd.jupyter.widget-view+json": {
       "model_id": "d3badb14b3ba442e8bc5736923825ba7",
       "version_major": 2,
       "version_minor": 0
      },
      "text/plain": [
       "  0%|          | 0/2 [00:00<?, ?it/s]"
      ]
     },
     "metadata": {},
     "output_type": "display_data"
    },
    {
     "name": "stdout",
     "output_type": "stream",
     "text": [
      "{'eval_runtime': 25.2934, 'eval_samples_per_second': 0.633, 'eval_steps_per_second': 0.079, 'epoch': 25.5}\n",
      "{'loss': 2.2363, 'grad_norm': 26.107973098754883, 'learning_rate': 0.00010165339447663587, 'epoch': 26.0}\n"
     ]
    },
    {
     "data": {
      "application/vnd.jupyter.widget-view+json": {
       "model_id": "e8e430c7bf144076a9a4abcff6e4911e",
       "version_major": 2,
       "version_minor": 0
      },
      "text/plain": [
       "  0%|          | 0/2 [00:00<?, ?it/s]"
      ]
     },
     "metadata": {},
     "output_type": "display_data"
    },
    {
     "name": "stdout",
     "output_type": "stream",
     "text": [
      "{'eval_runtime': 25.2948, 'eval_samples_per_second': 0.633, 'eval_steps_per_second': 0.079, 'epoch': 26.0}\n",
      "{'loss': 1.9004, 'grad_norm': 20.602365493774414, 'learning_rate': 9.834660552336415e-05, 'epoch': 26.5}\n"
     ]
    },
    {
     "data": {
      "application/vnd.jupyter.widget-view+json": {
       "model_id": "fd235c951c044a22b16379d5cc7e6123",
       "version_major": 2,
       "version_minor": 0
      },
      "text/plain": [
       "  0%|          | 0/2 [00:00<?, ?it/s]"
      ]
     },
     "metadata": {},
     "output_type": "display_data"
    },
    {
     "name": "stdout",
     "output_type": "stream",
     "text": [
      "{'eval_runtime': 25.2918, 'eval_samples_per_second': 0.633, 'eval_steps_per_second': 0.079, 'epoch': 26.5}\n",
      "{'loss': 1.7041, 'grad_norm': 20.00440216064453, 'learning_rate': 9.504162453267777e-05, 'epoch': 27.0}\n"
     ]
    },
    {
     "data": {
      "application/vnd.jupyter.widget-view+json": {
       "model_id": "b3c4d3adbc1b49e185a195ba215bba4d",
       "version_major": 2,
       "version_minor": 0
      },
      "text/plain": [
       "  0%|          | 0/2 [00:00<?, ?it/s]"
      ]
     },
     "metadata": {},
     "output_type": "display_data"
    },
    {
     "name": "stdout",
     "output_type": "stream",
     "text": [
      "{'eval_runtime': 25.3016, 'eval_samples_per_second': 0.632, 'eval_steps_per_second': 0.079, 'epoch': 27.0}\n",
      "{'loss': 1.6074, 'grad_norm': 19.37174415588379, 'learning_rate': 9.174206545276677e-05, 'epoch': 27.5}\n"
     ]
    },
    {
     "data": {
      "application/vnd.jupyter.widget-view+json": {
       "model_id": "7339bc43429b4ece96f7c41b1130b418",
       "version_major": 2,
       "version_minor": 0
      },
      "text/plain": [
       "  0%|          | 0/2 [00:00<?, ?it/s]"
      ]
     },
     "metadata": {},
     "output_type": "display_data"
    },
    {
     "name": "stdout",
     "output_type": "stream",
     "text": [
      "{'eval_runtime': 25.2874, 'eval_samples_per_second': 0.633, 'eval_steps_per_second': 0.079, 'epoch': 27.5}\n",
      "{'loss': 1.7148, 'grad_norm': 38.13642501831055, 'learning_rate': 8.845153630304139e-05, 'epoch': 28.0}\n"
     ]
    },
    {
     "data": {
      "application/vnd.jupyter.widget-view+json": {
       "model_id": "fc5d9978a47443faa333b9d4336ea268",
       "version_major": 2,
       "version_minor": 0
      },
      "text/plain": [
       "  0%|          | 0/2 [00:00<?, ?it/s]"
      ]
     },
     "metadata": {},
     "output_type": "display_data"
    },
    {
     "name": "stdout",
     "output_type": "stream",
     "text": [
      "{'eval_runtime': 25.291, 'eval_samples_per_second': 0.633, 'eval_steps_per_second': 0.079, 'epoch': 28.0}\n",
      "{'loss': 1.498, 'grad_norm': 17.699737548828125, 'learning_rate': 8.517363522881579e-05, 'epoch': 28.5}\n"
     ]
    },
    {
     "data": {
      "application/vnd.jupyter.widget-view+json": {
       "model_id": "87d22dcf0c5447599f50efdcfc714a30",
       "version_major": 2,
       "version_minor": 0
      },
      "text/plain": [
       "  0%|          | 0/2 [00:00<?, ?it/s]"
      ]
     },
     "metadata": {},
     "output_type": "display_data"
    },
    {
     "name": "stdout",
     "output_type": "stream",
     "text": [
      "{'eval_runtime': 25.2985, 'eval_samples_per_second': 0.632, 'eval_steps_per_second': 0.079, 'epoch': 28.5}\n",
      "{'loss': 1.4775, 'grad_norm': 25.57320785522461, 'learning_rate': 8.191194656678904e-05, 'epoch': 29.0}\n"
     ]
    },
    {
     "data": {
      "application/vnd.jupyter.widget-view+json": {
       "model_id": "cc7c04e10e0f421fbdf2a3b547cad6bb",
       "version_major": 2,
       "version_minor": 0
      },
      "text/plain": [
       "  0%|          | 0/2 [00:00<?, ?it/s]"
      ]
     },
     "metadata": {},
     "output_type": "display_data"
    },
    {
     "name": "stdout",
     "output_type": "stream",
     "text": [
      "{'eval_runtime': 25.3019, 'eval_samples_per_second': 0.632, 'eval_steps_per_second': 0.079, 'epoch': 29.0}\n",
      "{'loss': 1.1934, 'grad_norm': 17.820890426635742, 'learning_rate': 7.867003692562534e-05, 'epoch': 29.5}\n"
     ]
    },
    {
     "data": {
      "application/vnd.jupyter.widget-view+json": {
       "model_id": "71dae432018f4a5e9ce09d4778a31091",
       "version_major": 2,
       "version_minor": 0
      },
      "text/plain": [
       "  0%|          | 0/2 [00:00<?, ?it/s]"
      ]
     },
     "metadata": {},
     "output_type": "display_data"
    },
    {
     "name": "stdout",
     "output_type": "stream",
     "text": [
      "{'eval_runtime': 25.3124, 'eval_samples_per_second': 0.632, 'eval_steps_per_second': 0.079, 'epoch': 29.5}\n",
      "{'loss': 1.2676, 'grad_norm': 22.36860466003418, 'learning_rate': 7.54514512859201e-05, 'epoch': 30.0}\n"
     ]
    },
    {
     "data": {
      "application/vnd.jupyter.widget-view+json": {
       "model_id": "8c160634440c458390cc88a44f8de7bc",
       "version_major": 2,
       "version_minor": 0
      },
      "text/plain": [
       "  0%|          | 0/2 [00:00<?, ?it/s]"
      ]
     },
     "metadata": {},
     "output_type": "display_data"
    },
    {
     "name": "stdout",
     "output_type": "stream",
     "text": [
      "{'eval_runtime': 25.2969, 'eval_samples_per_second': 0.632, 'eval_steps_per_second': 0.079, 'epoch': 30.0}\n",
      "{'loss': 0.9917, 'grad_norm': 15.835683822631836, 'learning_rate': 7.225970912381556e-05, 'epoch': 30.5}\n"
     ]
    },
    {
     "data": {
      "application/vnd.jupyter.widget-view+json": {
       "model_id": "ba69ec42645049e8922fda80be9b7ad6",
       "version_major": 2,
       "version_minor": 0
      },
      "text/plain": [
       "  0%|          | 0/2 [00:00<?, ?it/s]"
      ]
     },
     "metadata": {},
     "output_type": "display_data"
    },
    {
     "name": "stdout",
     "output_type": "stream",
     "text": [
      "{'eval_runtime': 25.3037, 'eval_samples_per_second': 0.632, 'eval_steps_per_second': 0.079, 'epoch': 30.5}\n",
      "{'loss': 1.1904, 'grad_norm': 24.891021728515625, 'learning_rate': 6.909830056250527e-05, 'epoch': 31.0}\n"
     ]
    },
    {
     "data": {
      "application/vnd.jupyter.widget-view+json": {
       "model_id": "1f76bb1499ff449196cc47674d93fae3",
       "version_major": 2,
       "version_minor": 0
      },
      "text/plain": [
       "  0%|          | 0/2 [00:00<?, ?it/s]"
      ]
     },
     "metadata": {},
     "output_type": "display_data"
    },
    {
     "name": "stdout",
     "output_type": "stream",
     "text": [
      "{'eval_runtime': 25.3016, 'eval_samples_per_second': 0.632, 'eval_steps_per_second': 0.079, 'epoch': 31.0}\n",
      "{'loss': 0.8945, 'grad_norm': 14.913616180419922, 'learning_rate': 6.59706825558357e-05, 'epoch': 31.5}\n"
     ]
    },
    {
     "data": {
      "application/vnd.jupyter.widget-view+json": {
       "model_id": "5fe19910b17d428e94f7b81121ca13e6",
       "version_major": 2,
       "version_minor": 0
      },
      "text/plain": [
       "  0%|          | 0/2 [00:00<?, ?it/s]"
      ]
     },
     "metadata": {},
     "output_type": "display_data"
    },
    {
     "name": "stdout",
     "output_type": "stream",
     "text": [
      "{'eval_runtime': 25.2885, 'eval_samples_per_second': 0.633, 'eval_steps_per_second': 0.079, 'epoch': 31.5}\n",
      "{'loss': 1.0078, 'grad_norm': 26.857513427734375, 'learning_rate': 6.28802751081779e-05, 'epoch': 32.0}\n"
     ]
    },
    {
     "data": {
      "application/vnd.jupyter.widget-view+json": {
       "model_id": "b3966ea294b54e279a6a4d1403586f07",
       "version_major": 2,
       "version_minor": 0
      },
      "text/plain": [
       "  0%|          | 0/2 [00:00<?, ?it/s]"
      ]
     },
     "metadata": {},
     "output_type": "display_data"
    },
    {
     "name": "stdout",
     "output_type": "stream",
     "text": [
      "{'eval_runtime': 25.3065, 'eval_samples_per_second': 0.632, 'eval_steps_per_second': 0.079, 'epoch': 32.0}\n",
      "{'loss': 0.8027, 'grad_norm': 13.882426261901855, 'learning_rate': 5.983045753470308e-05, 'epoch': 32.5}\n"
     ]
    },
    {
     "data": {
      "application/vnd.jupyter.widget-view+json": {
       "model_id": "bb361585f1d2438ab9a5152521dacacb",
       "version_major": 2,
       "version_minor": 0
      },
      "text/plain": [
       "  0%|          | 0/2 [00:00<?, ?it/s]"
      ]
     },
     "metadata": {},
     "output_type": "display_data"
    },
    {
     "name": "stdout",
     "output_type": "stream",
     "text": [
      "{'eval_runtime': 25.2792, 'eval_samples_per_second': 0.633, 'eval_steps_per_second': 0.079, 'epoch': 32.5}\n",
      "{'loss': 0.8555, 'grad_norm': 18.733556747436523, 'learning_rate': 5.6824564766150726e-05, 'epoch': 33.0}\n"
     ]
    },
    {
     "data": {
      "application/vnd.jupyter.widget-view+json": {
       "model_id": "58e1dd1577844ce7ab52d0bee7e5a296",
       "version_major": 2,
       "version_minor": 0
      },
      "text/plain": [
       "  0%|          | 0/2 [00:00<?, ?it/s]"
      ]
     },
     "metadata": {},
     "output_type": "display_data"
    },
    {
     "name": "stdout",
     "output_type": "stream",
     "text": [
      "{'eval_runtime': 25.3306, 'eval_samples_per_second': 0.632, 'eval_steps_per_second': 0.079, 'epoch': 33.0}\n",
      "{'loss': 0.5806, 'grad_norm': 11.537298202514648, 'learning_rate': 5.386588370213124e-05, 'epoch': 33.5}\n"
     ]
    },
    {
     "data": {
      "application/vnd.jupyter.widget-view+json": {
       "model_id": "37812d77ae5f487791784c8a36dbf92a",
       "version_major": 2,
       "version_minor": 0
      },
      "text/plain": [
       "  0%|          | 0/2 [00:00<?, ?it/s]"
      ]
     },
     "metadata": {},
     "output_type": "display_data"
    },
    {
     "name": "stdout",
     "output_type": "stream",
     "text": [
      "{'eval_runtime': 25.2838, 'eval_samples_per_second': 0.633, 'eval_steps_per_second': 0.079, 'epoch': 33.5}\n",
      "{'loss': 0.7231, 'grad_norm': 16.709196090698242, 'learning_rate': 5.095764961694922e-05, 'epoch': 34.0}\n"
     ]
    },
    {
     "data": {
      "application/vnd.jupyter.widget-view+json": {
       "model_id": "1ec15500a5ec4aa1a23ad5d951668e2e",
       "version_major": 2,
       "version_minor": 0
      },
      "text/plain": [
       "  0%|          | 0/2 [00:00<?, ?it/s]"
      ]
     },
     "metadata": {},
     "output_type": "display_data"
    },
    {
     "name": "stdout",
     "output_type": "stream",
     "text": [
      "{'eval_runtime': 25.2928, 'eval_samples_per_second': 0.633, 'eval_steps_per_second': 0.079, 'epoch': 34.0}\n",
      "{'loss': 0.5698, 'grad_norm': 12.314087867736816, 'learning_rate': 4.810304262187852e-05, 'epoch': 34.5}\n"
     ]
    },
    {
     "data": {
      "application/vnd.jupyter.widget-view+json": {
       "model_id": "e7765b5ea8b74872bfb13a9d3d1e4eb5",
       "version_major": 2,
       "version_minor": 0
      },
      "text/plain": [
       "  0%|          | 0/2 [00:00<?, ?it/s]"
      ]
     },
     "metadata": {},
     "output_type": "display_data"
    },
    {
     "name": "stdout",
     "output_type": "stream",
     "text": [
      "{'eval_runtime': 25.2955, 'eval_samples_per_second': 0.633, 'eval_steps_per_second': 0.079, 'epoch': 34.5}\n",
      "{'loss': 0.5664, 'grad_norm': 19.283233642578125, 'learning_rate': 4.530518418775733e-05, 'epoch': 35.0}\n"
     ]
    },
    {
     "data": {
      "application/vnd.jupyter.widget-view+json": {
       "model_id": "22e40bc0e9f44684bd87c47d1a621779",
       "version_major": 2,
       "version_minor": 0
      },
      "text/plain": [
       "  0%|          | 0/2 [00:00<?, ?it/s]"
      ]
     },
     "metadata": {},
     "output_type": "display_data"
    },
    {
     "name": "stdout",
     "output_type": "stream",
     "text": [
      "{'eval_runtime': 25.3037, 'eval_samples_per_second': 0.632, 'eval_steps_per_second': 0.079, 'epoch': 35.0}\n",
      "{'loss': 0.4185, 'grad_norm': 10.723260879516602, 'learning_rate': 4.256713373170564e-05, 'epoch': 35.5}\n"
     ]
    },
    {
     "data": {
      "application/vnd.jupyter.widget-view+json": {
       "model_id": "64659ea5101243f29021855352d3a3db",
       "version_major": 2,
       "version_minor": 0
      },
      "text/plain": [
       "  0%|          | 0/2 [00:00<?, ?it/s]"
      ]
     },
     "metadata": {},
     "output_type": "display_data"
    },
    {
     "name": "stdout",
     "output_type": "stream",
     "text": [
      "{'eval_runtime': 25.2883, 'eval_samples_per_second': 0.633, 'eval_steps_per_second': 0.079, 'epoch': 35.5}\n",
      "{'loss': 0.5073, 'grad_norm': 13.241649627685547, 'learning_rate': 3.9891885271697496e-05, 'epoch': 36.0}\n"
     ]
    },
    {
     "data": {
      "application/vnd.jupyter.widget-view+json": {
       "model_id": "c102fb62d9a5477382b335b2ef28e808",
       "version_major": 2,
       "version_minor": 0
      },
      "text/plain": [
       "  0%|          | 0/2 [00:00<?, ?it/s]"
      ]
     },
     "metadata": {},
     "output_type": "display_data"
    },
    {
     "name": "stdout",
     "output_type": "stream",
     "text": [
      "{'eval_runtime': 25.294, 'eval_samples_per_second': 0.633, 'eval_steps_per_second': 0.079, 'epoch': 36.0}\n",
      "{'loss': 0.3862, 'grad_norm': 11.135894775390625, 'learning_rate': 3.7282364152646297e-05, 'epoch': 36.5}\n"
     ]
    },
    {
     "data": {
      "application/vnd.jupyter.widget-view+json": {
       "model_id": "b44dd298c85b4ca49bbc5435eaa3fb7a",
       "version_major": 2,
       "version_minor": 0
      },
      "text/plain": [
       "  0%|          | 0/2 [00:00<?, ?it/s]"
      ]
     },
     "metadata": {},
     "output_type": "display_data"
    },
    {
     "name": "stdout",
     "output_type": "stream",
     "text": [
      "{'eval_runtime': 25.3055, 'eval_samples_per_second': 0.632, 'eval_steps_per_second': 0.079, 'epoch': 36.5}\n",
      "{'loss': 0.375, 'grad_norm': 12.337307929992676, 'learning_rate': 3.4741423847583134e-05, 'epoch': 37.0}\n"
     ]
    },
    {
     "data": {
      "application/vnd.jupyter.widget-view+json": {
       "model_id": "1cef741f73a14e71a0c4e9ce4fe83b18",
       "version_major": 2,
       "version_minor": 0
      },
      "text/plain": [
       "  0%|          | 0/2 [00:00<?, ?it/s]"
      ]
     },
     "metadata": {},
     "output_type": "display_data"
    },
    {
     "name": "stdout",
     "output_type": "stream",
     "text": [
      "{'eval_runtime': 25.2933, 'eval_samples_per_second': 0.633, 'eval_steps_per_second': 0.079, 'epoch': 37.0}\n",
      "{'loss': 0.293, 'grad_norm': 9.521300315856934, 'learning_rate': 3.227184283742591e-05, 'epoch': 37.5}\n"
     ]
    },
    {
     "data": {
      "application/vnd.jupyter.widget-view+json": {
       "model_id": "c43921f82e54490c80d6dfc133e1530d",
       "version_major": 2,
       "version_minor": 0
      },
      "text/plain": [
       "  0%|          | 0/2 [00:00<?, ?it/s]"
      ]
     },
     "metadata": {},
     "output_type": "display_data"
    },
    {
     "name": "stdout",
     "output_type": "stream",
     "text": [
      "{'eval_runtime': 25.29, 'eval_samples_per_second': 0.633, 'eval_steps_per_second': 0.079, 'epoch': 37.5}\n",
      "{'loss': 0.3643, 'grad_norm': 14.21861457824707, 'learning_rate': 2.9876321572751144e-05, 'epoch': 38.0}\n"
     ]
    },
    {
     "data": {
      "application/vnd.jupyter.widget-view+json": {
       "model_id": "5e1d6cdd4aff4d2893b493b5ad42d038",
       "version_major": 2,
       "version_minor": 0
      },
      "text/plain": [
       "  0%|          | 0/2 [00:00<?, ?it/s]"
      ]
     },
     "metadata": {},
     "output_type": "display_data"
    },
    {
     "name": "stdout",
     "output_type": "stream",
     "text": [
      "{'eval_runtime': 25.3007, 'eval_samples_per_second': 0.632, 'eval_steps_per_second': 0.079, 'epoch': 38.0}\n",
      "{'loss': 0.2281, 'grad_norm': 7.182678699493408, 'learning_rate': 2.7557479520891104e-05, 'epoch': 38.5}\n"
     ]
    },
    {
     "data": {
      "application/vnd.jupyter.widget-view+json": {
       "model_id": "9ec9d88736d24b878cef3fe4d8db5aac",
       "version_major": 2,
       "version_minor": 0
      },
      "text/plain": [
       "  0%|          | 0/2 [00:00<?, ?it/s]"
      ]
     },
     "metadata": {},
     "output_type": "display_data"
    },
    {
     "name": "stdout",
     "output_type": "stream",
     "text": [
      "{'eval_runtime': 25.2896, 'eval_samples_per_second': 0.633, 'eval_steps_per_second': 0.079, 'epoch': 38.5}\n",
      "{'loss': 0.2959, 'grad_norm': 8.69774341583252, 'learning_rate': 2.5317852301584643e-05, 'epoch': 39.0}\n"
     ]
    },
    {
     "data": {
      "application/vnd.jupyter.widget-view+json": {
       "model_id": "a967237c82d84ef4a0dfd50a5b9b9714",
       "version_major": 2,
       "version_minor": 0
      },
      "text/plain": [
       "  0%|          | 0/2 [00:00<?, ?it/s]"
      ]
     },
     "metadata": {},
     "output_type": "display_data"
    },
    {
     "name": "stdout",
     "output_type": "stream",
     "text": [
      "{'eval_runtime': 25.2886, 'eval_samples_per_second': 0.633, 'eval_steps_per_second': 0.079, 'epoch': 39.0}\n",
      "{'loss': 0.1643, 'grad_norm': 5.021572113037109, 'learning_rate': 2.315988891431412e-05, 'epoch': 39.5}\n"
     ]
    },
    {
     "data": {
      "application/vnd.jupyter.widget-view+json": {
       "model_id": "fad5c2477b7545f4abedf456e92fdd13",
       "version_major": 2,
       "version_minor": 0
      },
      "text/plain": [
       "  0%|          | 0/2 [00:00<?, ?it/s]"
      ]
     },
     "metadata": {},
     "output_type": "display_data"
    },
    {
     "name": "stdout",
     "output_type": "stream",
     "text": [
      "{'eval_runtime': 25.2929, 'eval_samples_per_second': 0.633, 'eval_steps_per_second': 0.079, 'epoch': 39.5}\n",
      "{'loss': 0.2489, 'grad_norm': 7.634154319763184, 'learning_rate': 2.1085949060360654e-05, 'epoch': 40.0}\n"
     ]
    },
    {
     "data": {
      "application/vnd.jupyter.widget-view+json": {
       "model_id": "9e33076db4f741e2931f6e4c2179b769",
       "version_major": 2,
       "version_minor": 0
      },
      "text/plain": [
       "  0%|          | 0/2 [00:00<?, ?it/s]"
      ]
     },
     "metadata": {},
     "output_type": "display_data"
    },
    {
     "name": "stdout",
     "output_type": "stream",
     "text": [
      "{'eval_runtime': 25.2951, 'eval_samples_per_second': 0.633, 'eval_steps_per_second': 0.079, 'epoch': 40.0}\n",
      "{'loss': 0.181, 'grad_norm': 5.550947666168213, 'learning_rate': 1.9098300562505266e-05, 'epoch': 40.5}\n"
     ]
    },
    {
     "data": {
      "application/vnd.jupyter.widget-view+json": {
       "model_id": "2f0fa77840344f009f2a4950dc93bd1c",
       "version_major": 2,
       "version_minor": 0
      },
      "text/plain": [
       "  0%|          | 0/2 [00:00<?, ?it/s]"
      ]
     },
     "metadata": {},
     "output_type": "display_data"
    },
    {
     "name": "stdout",
     "output_type": "stream",
     "text": [
      "{'eval_runtime': 25.3121, 'eval_samples_per_second': 0.632, 'eval_steps_per_second': 0.079, 'epoch': 40.5}\n",
      "{'loss': 0.1644, 'grad_norm': 5.985578536987305, 'learning_rate': 1.7199116885197995e-05, 'epoch': 41.0}\n"
     ]
    },
    {
     "data": {
      "application/vnd.jupyter.widget-view+json": {
       "model_id": "49cbc2991e2f430eaee0efe883def239",
       "version_major": 2,
       "version_minor": 0
      },
      "text/plain": [
       "  0%|          | 0/2 [00:00<?, ?it/s]"
      ]
     },
     "metadata": {},
     "output_type": "display_data"
    },
    {
     "name": "stdout",
     "output_type": "stream",
     "text": [
      "{'eval_runtime': 25.2864, 'eval_samples_per_second': 0.633, 'eval_steps_per_second': 0.079, 'epoch': 41.0}\n",
      "{'loss': 0.1134, 'grad_norm': 3.727879285812378, 'learning_rate': 1.5390474757906446e-05, 'epoch': 41.5}\n"
     ]
    },
    {
     "data": {
      "application/vnd.jupyter.widget-view+json": {
       "model_id": "1f814aa0384843beb9cc999292a6434d",
       "version_major": 2,
       "version_minor": 0
      },
      "text/plain": [
       "  0%|          | 0/2 [00:00<?, ?it/s]"
      ]
     },
     "metadata": {},
     "output_type": "display_data"
    },
    {
     "name": "stdout",
     "output_type": "stream",
     "text": [
      "{'eval_runtime': 25.3052, 'eval_samples_per_second': 0.632, 'eval_steps_per_second': 0.079, 'epoch': 41.5}\n",
      "{'loss': 0.1826, 'grad_norm': 6.143801212310791, 'learning_rate': 1.3674351904242611e-05, 'epoch': 42.0}\n"
     ]
    },
    {
     "data": {
      "application/vnd.jupyter.widget-view+json": {
       "model_id": "bdc55d3a8e154aee888a0daac956803b",
       "version_major": 2,
       "version_minor": 0
      },
      "text/plain": [
       "  0%|          | 0/2 [00:00<?, ?it/s]"
      ]
     },
     "metadata": {},
     "output_type": "display_data"
    },
    {
     "name": "stdout",
     "output_type": "stream",
     "text": [
      "{'eval_runtime': 25.301, 'eval_samples_per_second': 0.632, 'eval_steps_per_second': 0.079, 'epoch': 42.0}\n",
      "{'loss': 0.1316, 'grad_norm': 3.8282575607299805, 'learning_rate': 1.2052624879351104e-05, 'epoch': 42.5}\n"
     ]
    },
    {
     "data": {
      "application/vnd.jupyter.widget-view+json": {
       "model_id": "0a854fed1d4044698992ec0266da0868",
       "version_major": 2,
       "version_minor": 0
      },
      "text/plain": [
       "  0%|          | 0/2 [00:00<?, ?it/s]"
      ]
     },
     "metadata": {},
     "output_type": "display_data"
    },
    {
     "name": "stdout",
     "output_type": "stream",
     "text": [
      "{'eval_runtime': 25.3046, 'eval_samples_per_second': 0.632, 'eval_steps_per_second': 0.079, 'epoch': 42.5}\n",
      "{'loss': 0.1202, 'grad_norm': 4.9621968269348145, 'learning_rate': 1.0527067017923654e-05, 'epoch': 43.0}\n"
     ]
    },
    {
     "data": {
      "application/vnd.jupyter.widget-view+json": {
       "model_id": "1577c943752543759610dfb4a931166c",
       "version_major": 2,
       "version_minor": 0
      },
      "text/plain": [
       "  0%|          | 0/2 [00:00<?, ?it/s]"
      ]
     },
     "metadata": {},
     "output_type": "display_data"
    },
    {
     "name": "stdout",
     "output_type": "stream",
     "text": [
      "{'eval_runtime': 25.2833, 'eval_samples_per_second': 0.633, 'eval_steps_per_second': 0.079, 'epoch': 43.0}\n",
      "{'loss': 0.1238, 'grad_norm': 3.461444139480591, 'learning_rate': 9.09934649508375e-06, 'epoch': 43.5}\n"
     ]
    },
    {
     "data": {
      "application/vnd.jupyter.widget-view+json": {
       "model_id": "116877312e2f4ffca0290038098aa218",
       "version_major": 2,
       "version_minor": 0
      },
      "text/plain": [
       "  0%|          | 0/2 [00:00<?, ?it/s]"
      ]
     },
     "metadata": {},
     "output_type": "display_data"
    },
    {
     "name": "stdout",
     "output_type": "stream",
     "text": [
      "{'eval_runtime': 25.3054, 'eval_samples_per_second': 0.632, 'eval_steps_per_second': 0.079, 'epoch': 43.5}\n",
      "{'loss': 0.0956, 'grad_norm': 3.72790789604187, 'learning_rate': 7.771024502261526e-06, 'epoch': 44.0}\n"
     ]
    },
    {
     "data": {
      "application/vnd.jupyter.widget-view+json": {
       "model_id": "95109cc8daf0428ba4a0fe5684bcc121",
       "version_major": 2,
       "version_minor": 0
      },
      "text/plain": [
       "  0%|          | 0/2 [00:00<?, ?it/s]"
      ]
     },
     "metadata": {},
     "output_type": "display_data"
    },
    {
     "name": "stdout",
     "output_type": "stream",
     "text": [
      "{'eval_runtime': 25.2997, 'eval_samples_per_second': 0.632, 'eval_steps_per_second': 0.079, 'epoch': 44.0}\n",
      "{'loss': 0.1085, 'grad_norm': 2.997945785522461, 'learning_rate': 6.543553540053926e-06, 'epoch': 44.5}\n"
     ]
    },
    {
     "data": {
      "application/vnd.jupyter.widget-view+json": {
       "model_id": "cbf209f96b1b496c9d5f88e4615895c2",
       "version_major": 2,
       "version_minor": 0
      },
      "text/plain": [
       "  0%|          | 0/2 [00:00<?, ?it/s]"
      ]
     },
     "metadata": {},
     "output_type": "display_data"
    },
    {
     "name": "stdout",
     "output_type": "stream",
     "text": [
      "{'eval_runtime': 25.3085, 'eval_samples_per_second': 0.632, 'eval_steps_per_second': 0.079, 'epoch': 44.5}\n",
      "{'loss': 0.0887, 'grad_norm': 4.348829746246338, 'learning_rate': 5.418275829936537e-06, 'epoch': 45.0}\n"
     ]
    },
    {
     "data": {
      "application/vnd.jupyter.widget-view+json": {
       "model_id": "8a618bc124a941d2943150c5593a1739",
       "version_major": 2,
       "version_minor": 0
      },
      "text/plain": [
       "  0%|          | 0/2 [00:00<?, ?it/s]"
      ]
     },
     "metadata": {},
     "output_type": "display_data"
    },
    {
     "name": "stdout",
     "output_type": "stream",
     "text": [
      "{'eval_runtime': 25.2879, 'eval_samples_per_second': 0.633, 'eval_steps_per_second': 0.079, 'epoch': 45.0}\n",
      "{'loss': 0.0919, 'grad_norm': 2.7110774517059326, 'learning_rate': 4.3964218465642355e-06, 'epoch': 45.5}\n"
     ]
    },
    {
     "data": {
      "application/vnd.jupyter.widget-view+json": {
       "model_id": "5fb1e321f88e4b3fb6c6a31e002742ed",
       "version_major": 2,
       "version_minor": 0
      },
      "text/plain": [
       "  0%|          | 0/2 [00:00<?, ?it/s]"
      ]
     },
     "metadata": {},
     "output_type": "display_data"
    },
    {
     "name": "stdout",
     "output_type": "stream",
     "text": [
      "{'eval_runtime': 25.2997, 'eval_samples_per_second': 0.632, 'eval_steps_per_second': 0.079, 'epoch': 45.5}\n",
      "{'loss': 0.0934, 'grad_norm': 3.816880226135254, 'learning_rate': 3.4791089722651436e-06, 'epoch': 46.0}\n"
     ]
    },
    {
     "data": {
      "application/vnd.jupyter.widget-view+json": {
       "model_id": "d95a1bb5545447c09485c99df8cf0829",
       "version_major": 2,
       "version_minor": 0
      },
      "text/plain": [
       "  0%|          | 0/2 [00:00<?, ?it/s]"
      ]
     },
     "metadata": {},
     "output_type": "display_data"
    },
    {
     "name": "stdout",
     "output_type": "stream",
     "text": [
      "{'eval_runtime': 25.292, 'eval_samples_per_second': 0.633, 'eval_steps_per_second': 0.079, 'epoch': 46.0}\n",
      "{'loss': 0.0931, 'grad_norm': 2.6529059410095215, 'learning_rate': 2.667340275199426e-06, 'epoch': 46.5}\n"
     ]
    },
    {
     "data": {
      "application/vnd.jupyter.widget-view+json": {
       "model_id": "62eeca7f2d4c4d0282372307e936bf0f",
       "version_major": 2,
       "version_minor": 0
      },
      "text/plain": [
       "  0%|          | 0/2 [00:00<?, ?it/s]"
      ]
     },
     "metadata": {},
     "output_type": "display_data"
    },
    {
     "name": "stdout",
     "output_type": "stream",
     "text": [
      "{'eval_runtime': 25.3013, 'eval_samples_per_second': 0.632, 'eval_steps_per_second': 0.079, 'epoch': 46.5}\n",
      "{'loss': 0.0811, 'grad_norm': 3.068213939666748, 'learning_rate': 1.9620034125190644e-06, 'epoch': 47.0}\n"
     ]
    },
    {
     "data": {
      "application/vnd.jupyter.widget-view+json": {
       "model_id": "b59a31b79f474b14b7fb1c3d3adc97f8",
       "version_major": 2,
       "version_minor": 0
      },
      "text/plain": [
       "  0%|          | 0/2 [00:00<?, ?it/s]"
      ]
     },
     "metadata": {},
     "output_type": "display_data"
    },
    {
     "name": "stdout",
     "output_type": "stream",
     "text": [
      "{'eval_runtime': 25.3097, 'eval_samples_per_second': 0.632, 'eval_steps_per_second': 0.079, 'epoch': 47.0}\n",
      "{'loss': 0.0851, 'grad_norm': 2.4766921997070312, 'learning_rate': 1.3638696597277679e-06, 'epoch': 47.5}\n"
     ]
    },
    {
     "data": {
      "application/vnd.jupyter.widget-view+json": {
       "model_id": "f421da56637e4cee85d5ddbfc322a270",
       "version_major": 2,
       "version_minor": 0
      },
      "text/plain": [
       "  0%|          | 0/2 [00:00<?, ?it/s]"
      ]
     },
     "metadata": {},
     "output_type": "display_data"
    },
    {
     "name": "stdout",
     "output_type": "stream",
     "text": [
      "{'eval_runtime': 24.3089, 'eval_samples_per_second': 0.658, 'eval_steps_per_second': 0.082, 'epoch': 47.5}\n",
      "{'loss': 0.0801, 'grad_norm': 2.826228380203247, 'learning_rate': 8.735930673024806e-07, 'epoch': 48.0}\n"
     ]
    },
    {
     "data": {
      "application/vnd.jupyter.widget-view+json": {
       "model_id": "fa7e229da47b42d9bc99d092ff3306d9",
       "version_major": 2,
       "version_minor": 0
      },
      "text/plain": [
       "  0%|          | 0/2 [00:00<?, ?it/s]"
      ]
     },
     "metadata": {},
     "output_type": "display_data"
    },
    {
     "name": "stdout",
     "output_type": "stream",
     "text": [
      "{'eval_runtime': 25.3915, 'eval_samples_per_second': 0.63, 'eval_steps_per_second': 0.079, 'epoch': 48.0}\n",
      "{'loss': 0.0784, 'grad_norm': 2.2584166526794434, 'learning_rate': 4.917097454988584e-07, 'epoch': 48.5}\n"
     ]
    },
    {
     "data": {
      "application/vnd.jupyter.widget-view+json": {
       "model_id": "4f1ab9b442d94768bc12374d7dccca0f",
       "version_major": 2,
       "version_minor": 0
      },
      "text/plain": [
       "  0%|          | 0/2 [00:00<?, ?it/s]"
      ]
     },
     "metadata": {},
     "output_type": "display_data"
    },
    {
     "name": "stdout",
     "output_type": "stream",
     "text": [
      "{'eval_runtime': 25.3085, 'eval_samples_per_second': 0.632, 'eval_steps_per_second': 0.079, 'epoch': 48.5}\n",
      "{'loss': 0.0817, 'grad_norm': 2.340648651123047, 'learning_rate': 2.1863727812254653e-07, 'epoch': 49.0}\n"
     ]
    },
    {
     "data": {
      "application/vnd.jupyter.widget-view+json": {
       "model_id": "fddbdf81a2084176a7a37371d9e4f1fe",
       "version_major": 2,
       "version_minor": 0
      },
      "text/plain": [
       "  0%|          | 0/2 [00:00<?, ?it/s]"
      ]
     },
     "metadata": {},
     "output_type": "display_data"
    },
    {
     "name": "stdout",
     "output_type": "stream",
     "text": [
      "{'eval_runtime': 25.3264, 'eval_samples_per_second': 0.632, 'eval_steps_per_second': 0.079, 'epoch': 49.0}\n",
      "{'loss': 0.0822, 'grad_norm': 2.42232346534729, 'learning_rate': 5.467426590739511e-08, 'epoch': 49.5}\n"
     ]
    },
    {
     "data": {
      "application/vnd.jupyter.widget-view+json": {
       "model_id": "af75da13ca094dd4876a444516984b5b",
       "version_major": 2,
       "version_minor": 0
      },
      "text/plain": [
       "  0%|          | 0/2 [00:00<?, ?it/s]"
      ]
     },
     "metadata": {},
     "output_type": "display_data"
    },
    {
     "name": "stdout",
     "output_type": "stream",
     "text": [
      "{'eval_runtime': 25.3434, 'eval_samples_per_second': 0.631, 'eval_steps_per_second': 0.079, 'epoch': 49.5}\n",
      "{'loss': 0.0764, 'grad_norm': 2.4027607440948486, 'learning_rate': 0.0, 'epoch': 50.0}\n"
     ]
    },
    {
     "data": {
      "application/vnd.jupyter.widget-view+json": {
       "model_id": "b5e23862342b4185a80e196f74ee2a98",
       "version_major": 2,
       "version_minor": 0
      },
      "text/plain": [
       "  0%|          | 0/2 [00:00<?, ?it/s]"
      ]
     },
     "metadata": {},
     "output_type": "display_data"
    },
    {
     "name": "stdout",
     "output_type": "stream",
     "text": [
      "{'eval_runtime': 25.3184, 'eval_samples_per_second': 0.632, 'eval_steps_per_second': 0.079, 'epoch': 50.0}\n",
      "{'train_runtime': 12699.5028, 'train_samples_per_second': 0.063, 'train_steps_per_second': 0.008, 'train_loss': 3.4925225830078124, 'epoch': 50.0}\n"
     ]
    }
   ],
   "source": [
    "trainer_stats = trainer.train()  # 모델을 훈련시키고 통계를 반환합니다."
   ]
  },
  {
   "cell_type": "code",
   "execution_count": 28,
   "metadata": {},
   "outputs": [
    {
     "name": "stdout",
     "output_type": "stream",
     "text": [
      "12699.5028 seconds used for training.\n",
      "211.66 minutes used for training.\n",
      "Peak reserved memory = 11.5 GB.\n",
      "Peak reserved memory for training = 5.992 GB.\n",
      "Peak reserved memory % of max memory = 143.75 %.\n",
      "Peak reserved memory for training % of max memory = 74.9 %.\n"
     ]
    }
   ],
   "source": [
    "# 최종 메모리 및 시간 통계를 보여줍니다.\n",
    "used_memory = round(\n",
    "    torch.cuda.max_memory_reserved() / 1024 / 1024 / 1024, 3\n",
    ")  # 사용된 최대 메모리를 GB 단위로 계산합니다.\n",
    "used_memory_for_lora = round(\n",
    "    used_memory - start_gpu_memory, 3\n",
    ")  # LoRA를 위해 사용된 메모리를 GB 단위로 계산합니다.\n",
    "used_percentage = round(\n",
    "    used_memory / max_memory * 100, 3\n",
    ")  # 최대 메모리 대비 사용된 메모리의 비율을 계산합니다.\n",
    "lora_percentage = round(\n",
    "    used_memory_for_lora / max_memory * 100, 3\n",
    ")  # 최대 메모리 대비 LoRA를 위해 사용된 메모리의 비율을 계산합니다.\n",
    "print(\n",
    "    f\"{trainer_stats.metrics['train_runtime']} seconds used for training.\"\n",
    ")  # 훈련에 사용된 시간을 초 단위로 출력합니다.\n",
    "print(\n",
    "    # 훈련에 사용된 시간을 분 단위로 출력합니다.\n",
    "    f\"{round(trainer_stats.metrics['train_runtime']/60, 2)} minutes used for training.\"\n",
    ")\n",
    "print(\n",
    "    f\"Peak reserved memory = {used_memory} GB.\"\n",
    ")  # 예약된 최대 메모리를 GB 단위로 출력합니다.\n",
    "print(\n",
    "    f\"Peak reserved memory for training = {used_memory_for_lora} GB.\"\n",
    ")  # 훈련을 위해 예약된 최대 메모리를 GB 단위로 출력합니다.\n",
    "print(\n",
    "    f\"Peak reserved memory % of max memory = {used_percentage} %.\"\n",
    ")  # 최대 메모리 대비 예약된 메모리의 비율을 출력합니다.\n",
    "print(\n",
    "    f\"Peak reserved memory for training % of max memory = {lora_percentage} %.\"\n",
    ")  # 최대 메모리 대비 훈련을 위해 예약된 메모리의 비율을 출력합니다."
   ]
  },
  {
   "cell_type": "markdown",
   "metadata": {},
   "source": [
    "# 저장"
   ]
  },
  {
   "cell_type": "code",
   "execution_count": 46,
   "metadata": {},
   "outputs": [
    {
     "data": {
      "text/plain": [
       "('finetuned_model_merge\\\\tokenizer_config.json',\n",
       " 'finetuned_model_merge\\\\special_tokens_map.json',\n",
       " 'finetuned_model_merge\\\\tokenizer.json')"
      ]
     },
     "execution_count": 46,
     "metadata": {},
     "output_type": "execute_result"
    }
   ],
   "source": [
    "# 모델과 토크나이저를 저장할 디렉토리 경로\n",
    "save_directory = \"finetuned_model\"\n",
    "\n",
    "# 모델과 토크나이저를 저장합니다.\n",
    "model.save_pretrained(save_directory)\n",
    "tokenizer.save_pretrained(save_directory)"
   ]
  },
  {
   "cell_type": "code",
   "execution_count": 47,
   "metadata": {},
   "outputs": [
    {
     "name": "stderr",
     "output_type": "stream",
     "text": [
      "c:\\Anaconda3\\envs\\kollm\\Lib\\site-packages\\transformers\\utils\\hub.py:875: FutureWarning: The `use_auth_token` argument is deprecated and will be removed in v5 of Transformers. Please use `token` instead.\n",
      "  warnings.warn(\n"
     ]
    },
    {
     "data": {
      "application/vnd.jupyter.widget-view+json": {
       "model_id": "5378f06feddd4d09a00d0713aff7a0f8",
       "version_major": 2,
       "version_minor": 0
      },
      "text/plain": [
       "model-00002-of-00002.safetensors:   0%|          | 0.00/1.05G [00:00<?, ?B/s]"
      ]
     },
     "metadata": {},
     "output_type": "display_data"
    },
    {
     "data": {
      "application/vnd.jupyter.widget-view+json": {
       "model_id": "d0092f98b9784f5e981e074c72961ebd",
       "version_major": 2,
       "version_minor": 0
      },
      "text/plain": [
       "model-00001-of-00002.safetensors:   0%|          | 0.00/4.65G [00:00<?, ?B/s]"
      ]
     },
     "metadata": {},
     "output_type": "display_data"
    },
    {
     "data": {
      "application/vnd.jupyter.widget-view+json": {
       "model_id": "810e393d783c422fbf87e6c09777c385",
       "version_major": 2,
       "version_minor": 0
      },
      "text/plain": [
       "Upload 2 LFS files:   0%|          | 0/2 [00:00<?, ?it/s]"
      ]
     },
     "metadata": {},
     "output_type": "display_data"
    },
    {
     "name": "stderr",
     "output_type": "stream",
     "text": [
      "c:\\Anaconda3\\envs\\kollm\\Lib\\site-packages\\transformers\\utils\\hub.py:875: FutureWarning: The `use_auth_token` argument is deprecated and will be removed in v5 of Transformers. Please use `token` instead.\n",
      "  warnings.warn(\n"
     ]
    },
    {
     "data": {
      "application/vnd.jupyter.widget-view+json": {
       "model_id": "0ae1cfbfa1a848e6b64192f1c84d589b",
       "version_major": 2,
       "version_minor": 0
      },
      "text/plain": [
       "README.md:   0%|          | 0.00/5.18k [00:00<?, ?B/s]"
      ]
     },
     "metadata": {},
     "output_type": "display_data"
    },
    {
     "name": "stderr",
     "output_type": "stream",
     "text": [
      "c:\\Anaconda3\\envs\\kollm\\Lib\\site-packages\\huggingface_hub\\file_download.py:157: UserWarning: `huggingface_hub` cache-system uses symlinks by default to efficiently store duplicated files but your machine does not support them in C:\\Users\\정수채\\.cache\\huggingface\\hub\\models--Suchae--test-finetuned-merge. Caching files will still work but in a degraded version that might require more space on your disk. This warning can be disabled by setting the `HF_HUB_DISABLE_SYMLINKS_WARNING` environment variable. For more details, see https://huggingface.co/docs/huggingface_hub/how-to-cache#limitations.\n",
      "To support symlinks on Windows, you either need to activate Developer Mode or to run Python as an administrator. In order to see activate developer mode, see this article: https://docs.microsoft.com/en-us/windows/apps/get-started/enable-your-device-for-development\n",
      "  warnings.warn(message)\n"
     ]
    },
    {
     "data": {
      "text/plain": [
       "CommitInfo(commit_url='https://huggingface.co/Suchae/test-finetuned-merge/commit/0d56d02984ee2ee4081c196813ebef7386d14bc6', commit_message='Upload tokenizer', commit_description='', oid='0d56d02984ee2ee4081c196813ebef7386d14bc6', pr_url=None, pr_revision=None, pr_num=None)"
      ]
     },
     "execution_count": 47,
     "metadata": {},
     "output_type": "execute_result"
    }
   ],
   "source": [
    "# Hub 에 업로드\n",
    "# Hugging Face Hub에 모델과 토크나이저를 업로드\n",
    "model.push_to_hub(\"Suchae/test-finetuned\", use_auth_token=\"\")\n",
    "tokenizer.push_to_hub(\"Suchae/test-finetuned\", use_auth_token=\"\")"
   ]
  }
 ],
 "metadata": {
  "kernelspec": {
   "display_name": "kollm",
   "language": "python",
   "name": "python3"
  },
  "language_info": {
   "codemirror_mode": {
    "name": "ipython",
    "version": 3
   },
   "file_extension": ".py",
   "mimetype": "text/x-python",
   "name": "python",
   "nbconvert_exporter": "python",
   "pygments_lexer": "ipython3",
   "version": "3.11.9"
  }
 },
 "nbformat": 4,
 "nbformat_minor": 2
}
